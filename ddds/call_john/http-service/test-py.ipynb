{
 "cells": [
  {
   "cell_type": "code",
   "execution_count": 2,
   "metadata": {},
   "outputs": [
    {
     "data": {
      "text/plain": [
       "{'contact_john': {'mobile': '0701234567',\n",
       "  'work': '0736582934',\n",
       "  'home': '031122363'},\n",
       " 'contact_lisa': {'mobile': '0709876543',\n",
       "  'work': '0763559230',\n",
       "  'home': '031749205'},\n",
       " 'contact_mary': {'mobile': '0706574839',\n",
       "  'work': '0784736475',\n",
       "  'home': '031847528'},\n",
       " 'contact_andy': None}"
      ]
     },
     "execution_count": 2,
     "metadata": {},
     "output_type": "execute_result"
    }
   ],
   "source": [
    "import json\n",
    "with open('../http-service/contacts.json', \"r\") as json_file:\n",
    "    CONTACT = json.load(json_file)\n",
    "CONTACT\n",
    "# CONTACT['contact_Name']['mobile/work/home']=number_str"
   ]
  },
  {
   "cell_type": "code",
   "execution_count": 37,
   "metadata": {},
   "outputs": [
    {
     "data": {
      "text/plain": [
       "'The contact has no home number'"
      ]
     },
     "execution_count": 37,
     "metadata": {},
     "output_type": "execute_result"
    }
   ],
   "source": [
    "def get_number(name, phone_type, json_file='../http-service/contacts.json'):\n",
    "    with open(json_file, \"r\") as f:\n",
    "        CONTACT = json.load(f)\n",
    "    \n",
    "    contact_name = 'contact_'+name.lower()\n",
    "    if contact_name not in CONTACT:\n",
    "        return 'Contact does not exist'\n",
    "    phone_types = CONTACT[contact_name] if CONTACT[contact_name] else [None]\n",
    "    if phone_type not in phone_types:\n",
    "        return f'The contact has no {phone_type} number'\n",
    "    number_str = CONTACT[contact_name][phone_type]\n",
    "    return number_str\n",
    "\n",
    "get_number('andy', 'home')"
   ]
  },
  {
   "cell_type": "code",
   "execution_count": 36,
   "metadata": {},
   "outputs": [
    {
     "data": {
      "text/plain": [
       "[None]"
      ]
     },
     "execution_count": 36,
     "metadata": {},
     "output_type": "execute_result"
    }
   ],
   "source": [
    "[None]"
   ]
  },
  {
   "cell_type": "code",
   "execution_count": 21,
   "metadata": {},
   "outputs": [
    {
     "name": "stdout",
     "output_type": "stream",
     "text": [
      "c0000000000000000000\n",
      "ch000000000000000000\n",
      "chi00000000000000000\n",
      "chic0000000000000000\n",
      "chick000000000000000\n",
      "chicke00000000000000\n",
      "chicken0000000000000\n",
      "chickenb000000000000\n",
      "chickenbr00000000000\n",
      "chickenbro0000000000\n",
      "chickenbror000000000\n"
     ]
    }
   ],
   "source": [
    "sen = 'chickenbror'\n",
    "num=20\n",
    "for i in range(1,num+1):\n",
    "    prefix = sen[:i]\n",
    "    suffix = '0'*(num-len(prefix))\n",
    "    \n",
    "    if i>len(prefix):\n",
    "        break\n",
    "    print(prefix+suffix)\n",
    "    "
   ]
  }
 ],
 "metadata": {
  "kernelspec": {
   "display_name": "Python 3",
   "language": "python",
   "name": "python3"
  },
  "language_info": {
   "codemirror_mode": {
    "name": "ipython",
    "version": 3
   },
   "file_extension": ".py",
   "mimetype": "text/x-python",
   "name": "python",
   "nbconvert_exporter": "python",
   "pygments_lexer": "ipython3",
   "version": "3.8.5"
  }
 },
 "nbformat": 4,
 "nbformat_minor": 4
}
